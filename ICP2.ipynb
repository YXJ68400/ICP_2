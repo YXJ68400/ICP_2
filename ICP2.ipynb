{
  "nbformat": 4,
  "nbformat_minor": 0,
  "metadata": {
    "colab": {
      "provenance": []
    },
    "kernelspec": {
      "name": "python3",
      "display_name": "Python 3"
    },
    "language_info": {
      "name": "python"
    }
  },
  "cells": [
    {
      "cell_type": "code",
      "execution_count": 28,
      "metadata": {
        "colab": {
          "base_uri": "https://localhost:8080/"
        },
        "id": "OpJgd8sVZdNE",
        "outputId": "62384fd1-650c-4864-b355-13da326ad642"
      },
      "outputs": [
        {
          "output_type": "stream",
          "name": "stdout",
          "text": [
            "Enter your first name: yasaswi\n",
            "Enter your last name: jonnalagadda\n",
            "Full Name: yasaswi jonnalagadda\n",
            "Alternative Characters Output: yssijnaaad\n"
          ]
        }
      ],
      "source": [
        "def full_name(first_name, last_name):\n",
        "    return first_name+\" \"+ last_name\n",
        "\n",
        "def string_alternative(full_name):\n",
        "    return full_name[::2]\n",
        "\n",
        "def main():\n",
        "    first_name = input(\"Enter your first name: \")\n",
        "    last_name = input(\"Enter your last name: \")\n",
        "    full_name_str =first_name+\" \"+ last_name\n",
        "    print(\"Full Name:\", full_name_str)\n",
        "\n",
        "    alternative_string = string_alternative(full_name_str)\n",
        "    print(\"Alternative Characters Output:\", alternative_string)\n",
        "main()"
      ]
    },
    {
      "cell_type": "code",
      "source": [
        "with open('input.txt', 'r') as infile, open('output.txt', 'w') as outfile:\n",
        "  word_count={}\n",
        "  lines = infile.readlines()\n",
        "  for line in lines:\n",
        "     words = line.strip().split()\n",
        "     for word in words:\n",
        "         if word in word_count:\n",
        "            word_count[word] += 1\n",
        "         else:\n",
        "            word_count[word] = 1\n",
        "  output_string = \"\" \"\\n\".join(lines) + \"\\n\\nWord_Count:\\n\\n\"\n",
        "  for word, count in word_count.items():\n",
        "    output_string += f\"{word}: {count}\\n\"\n",
        "\n",
        "  print(output_string)\n",
        "\n",
        "  outfile.write(output_string)"
      ],
      "metadata": {
        "colab": {
          "base_uri": "https://localhost:8080/"
        },
        "id": "mU0bCFGvaMi2",
        "outputId": "06cd4fcd-aae0-44dd-d7a6-5e8f5510ee97"
      },
      "execution_count": 30,
      "outputs": [
        {
          "output_type": "stream",
          "name": "stdout",
          "text": [
            "Python Course\n",
            "\n",
            "Deep Learning Course\n",
            "\n",
            "Word_Count:\n",
            "\n",
            "Python: 1\n",
            "Course: 2\n",
            "Deep: 1\n",
            "Learning: 1\n",
            "\n"
          ]
        }
      ]
    },
    {
      "cell_type": "code",
      "source": [
        "def convert_inches_cms():\n",
        "    num_customers = input(\"Enter the number of customers you will input: \")\n",
        "    if not num_customers.isdigit():\n",
        "        print(\"Please enter a valid integer for the number of heights.\")\n",
        "        return\n",
        "    list_size = int(num_customers)\n",
        "    heights_inches = []\n",
        "    for i in range(list_size):\n",
        "        while True:\n",
        "            input_height = input(f\"Enter height {i + 1} in inches: \")\n",
        "            if input_height.isdigit():\n",
        "                heights_inches.append(float(input_height))\n",
        "                break\n",
        "            else:\n",
        "                print(\"Please enter a valid number.\")\n",
        "    print(\"Collected heights in inches:\", heights_inches)\n",
        "    heights_cm = [height * 2.54 for height in heights_inches]\n",
        "    print(\"Converted heights in centimeters:\", heights_cm)\n",
        "convert_inches_cms()"
      ],
      "metadata": {
        "colab": {
          "base_uri": "https://localhost:8080/"
        },
        "id": "ZOjVU4CIiZGa",
        "outputId": "628a9cd2-49c3-4f47-fabb-d6c8b5dcfd06"
      },
      "execution_count": 29,
      "outputs": [
        {
          "output_type": "stream",
          "name": "stdout",
          "text": [
            "Enter the number of customers you will input: 4\n",
            "Enter height 1 in inches: 150\n",
            "Enter height 2 in inches: 155\n",
            "Enter height 3 in inches: 145\n",
            "Enter height 4 in inches: 148\n",
            "Collected heights in inches: [150.0, 155.0, 145.0, 148.0]\n",
            "Converted heights in centimeters: [381.0, 393.7, 368.3, 375.92]\n"
          ]
        }
      ]
    }
  ]
}